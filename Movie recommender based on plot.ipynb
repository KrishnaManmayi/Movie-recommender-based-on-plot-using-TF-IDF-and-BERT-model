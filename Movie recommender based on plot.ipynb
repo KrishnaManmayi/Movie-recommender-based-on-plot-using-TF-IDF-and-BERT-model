{
  "nbformat": 4,
  "nbformat_minor": 0,
  "metadata": {
    "colab": {
      "name": "NLP_project_bert_movierecommender.ipynb",
      "provenance": [],
      "collapsed_sections": []
    },
    "kernelspec": {
      "name": "python3",
      "display_name": "Python 3"
    },
    "widgets": {
      "application/vnd.jupyter.widget-state+json": {
        "e72bb3abd6ca44e5beb1184d75639bbe": {
          "model_module": "@jupyter-widgets/controls",
          "model_name": "HBoxModel",
          "state": {
            "_view_name": "HBoxView",
            "_dom_classes": [],
            "_model_name": "HBoxModel",
            "_view_module": "@jupyter-widgets/controls",
            "_model_module_version": "1.5.0",
            "_view_count": null,
            "_view_module_version": "1.5.0",
            "box_style": "",
            "layout": "IPY_MODEL_90a569199ec7433780c094de2930b8de",
            "_model_module": "@jupyter-widgets/controls",
            "children": [
              "IPY_MODEL_88ac430c223e4121bac687254b8367a4",
              "IPY_MODEL_d28d3100fbea4432beaed0d354cc2626"
            ]
          }
        },
        "90a569199ec7433780c094de2930b8de": {
          "model_module": "@jupyter-widgets/base",
          "model_name": "LayoutModel",
          "state": {
            "_view_name": "LayoutView",
            "grid_template_rows": null,
            "right": null,
            "justify_content": null,
            "_view_module": "@jupyter-widgets/base",
            "overflow": null,
            "_model_module_version": "1.2.0",
            "_view_count": null,
            "flex_flow": null,
            "width": null,
            "min_width": null,
            "border": null,
            "align_items": null,
            "bottom": null,
            "_model_module": "@jupyter-widgets/base",
            "top": null,
            "grid_column": null,
            "overflow_y": null,
            "overflow_x": null,
            "grid_auto_flow": null,
            "grid_area": null,
            "grid_template_columns": null,
            "flex": null,
            "_model_name": "LayoutModel",
            "justify_items": null,
            "grid_row": null,
            "max_height": null,
            "align_content": null,
            "visibility": null,
            "align_self": null,
            "height": null,
            "min_height": null,
            "padding": null,
            "grid_auto_rows": null,
            "grid_gap": null,
            "max_width": null,
            "order": null,
            "_view_module_version": "1.2.0",
            "grid_template_areas": null,
            "object_position": null,
            "object_fit": null,
            "grid_auto_columns": null,
            "margin": null,
            "display": null,
            "left": null
          }
        },
        "88ac430c223e4121bac687254b8367a4": {
          "model_module": "@jupyter-widgets/controls",
          "model_name": "FloatProgressModel",
          "state": {
            "_view_name": "ProgressView",
            "style": "IPY_MODEL_b36edb5cb3a34a6b8a4c14adb2d84cb3",
            "_dom_classes": [],
            "description": "Downloading: 100%",
            "_model_name": "FloatProgressModel",
            "bar_style": "success",
            "max": 231508,
            "_view_module": "@jupyter-widgets/controls",
            "_model_module_version": "1.5.0",
            "value": 231508,
            "_view_count": null,
            "_view_module_version": "1.5.0",
            "orientation": "horizontal",
            "min": 0,
            "description_tooltip": null,
            "_model_module": "@jupyter-widgets/controls",
            "layout": "IPY_MODEL_5dfcee9aaa5c4933818c0ff01a88195c"
          }
        },
        "d28d3100fbea4432beaed0d354cc2626": {
          "model_module": "@jupyter-widgets/controls",
          "model_name": "HTMLModel",
          "state": {
            "_view_name": "HTMLView",
            "style": "IPY_MODEL_6c6670ea9ba043f68a4cc4bb9f062c2e",
            "_dom_classes": [],
            "description": "",
            "_model_name": "HTMLModel",
            "placeholder": "​",
            "_view_module": "@jupyter-widgets/controls",
            "_model_module_version": "1.5.0",
            "value": " 232k/232k [00:00&lt;00:00, 1.95MB/s]",
            "_view_count": null,
            "_view_module_version": "1.5.0",
            "description_tooltip": null,
            "_model_module": "@jupyter-widgets/controls",
            "layout": "IPY_MODEL_144831723ff34e329ad926ff892f28c7"
          }
        },
        "b36edb5cb3a34a6b8a4c14adb2d84cb3": {
          "model_module": "@jupyter-widgets/controls",
          "model_name": "ProgressStyleModel",
          "state": {
            "_view_name": "StyleView",
            "_model_name": "ProgressStyleModel",
            "description_width": "initial",
            "_view_module": "@jupyter-widgets/base",
            "_model_module_version": "1.5.0",
            "_view_count": null,
            "_view_module_version": "1.2.0",
            "bar_color": null,
            "_model_module": "@jupyter-widgets/controls"
          }
        },
        "5dfcee9aaa5c4933818c0ff01a88195c": {
          "model_module": "@jupyter-widgets/base",
          "model_name": "LayoutModel",
          "state": {
            "_view_name": "LayoutView",
            "grid_template_rows": null,
            "right": null,
            "justify_content": null,
            "_view_module": "@jupyter-widgets/base",
            "overflow": null,
            "_model_module_version": "1.2.0",
            "_view_count": null,
            "flex_flow": null,
            "width": null,
            "min_width": null,
            "border": null,
            "align_items": null,
            "bottom": null,
            "_model_module": "@jupyter-widgets/base",
            "top": null,
            "grid_column": null,
            "overflow_y": null,
            "overflow_x": null,
            "grid_auto_flow": null,
            "grid_area": null,
            "grid_template_columns": null,
            "flex": null,
            "_model_name": "LayoutModel",
            "justify_items": null,
            "grid_row": null,
            "max_height": null,
            "align_content": null,
            "visibility": null,
            "align_self": null,
            "height": null,
            "min_height": null,
            "padding": null,
            "grid_auto_rows": null,
            "grid_gap": null,
            "max_width": null,
            "order": null,
            "_view_module_version": "1.2.0",
            "grid_template_areas": null,
            "object_position": null,
            "object_fit": null,
            "grid_auto_columns": null,
            "margin": null,
            "display": null,
            "left": null
          }
        },
        "6c6670ea9ba043f68a4cc4bb9f062c2e": {
          "model_module": "@jupyter-widgets/controls",
          "model_name": "DescriptionStyleModel",
          "state": {
            "_view_name": "StyleView",
            "_model_name": "DescriptionStyleModel",
            "description_width": "",
            "_view_module": "@jupyter-widgets/base",
            "_model_module_version": "1.5.0",
            "_view_count": null,
            "_view_module_version": "1.2.0",
            "_model_module": "@jupyter-widgets/controls"
          }
        },
        "144831723ff34e329ad926ff892f28c7": {
          "model_module": "@jupyter-widgets/base",
          "model_name": "LayoutModel",
          "state": {
            "_view_name": "LayoutView",
            "grid_template_rows": null,
            "right": null,
            "justify_content": null,
            "_view_module": "@jupyter-widgets/base",
            "overflow": null,
            "_model_module_version": "1.2.0",
            "_view_count": null,
            "flex_flow": null,
            "width": null,
            "min_width": null,
            "border": null,
            "align_items": null,
            "bottom": null,
            "_model_module": "@jupyter-widgets/base",
            "top": null,
            "grid_column": null,
            "overflow_y": null,
            "overflow_x": null,
            "grid_auto_flow": null,
            "grid_area": null,
            "grid_template_columns": null,
            "flex": null,
            "_model_name": "LayoutModel",
            "justify_items": null,
            "grid_row": null,
            "max_height": null,
            "align_content": null,
            "visibility": null,
            "align_self": null,
            "height": null,
            "min_height": null,
            "padding": null,
            "grid_auto_rows": null,
            "grid_gap": null,
            "max_width": null,
            "order": null,
            "_view_module_version": "1.2.0",
            "grid_template_areas": null,
            "object_position": null,
            "object_fit": null,
            "grid_auto_columns": null,
            "margin": null,
            "display": null,
            "left": null
          }
        },
        "976bd9a6d6964b83a4fee28961e56d08": {
          "model_module": "@jupyter-widgets/controls",
          "model_name": "HBoxModel",
          "state": {
            "_view_name": "HBoxView",
            "_dom_classes": [],
            "_model_name": "HBoxModel",
            "_view_module": "@jupyter-widgets/controls",
            "_model_module_version": "1.5.0",
            "_view_count": null,
            "_view_module_version": "1.5.0",
            "box_style": "",
            "layout": "IPY_MODEL_98ed8b07a2444397a670c60e155587fb",
            "_model_module": "@jupyter-widgets/controls",
            "children": [
              "IPY_MODEL_1b755de6443d4321ab36df9c9a188c03",
              "IPY_MODEL_2e54b1f4c16b482ead80294a13b02d88"
            ]
          }
        },
        "98ed8b07a2444397a670c60e155587fb": {
          "model_module": "@jupyter-widgets/base",
          "model_name": "LayoutModel",
          "state": {
            "_view_name": "LayoutView",
            "grid_template_rows": null,
            "right": null,
            "justify_content": null,
            "_view_module": "@jupyter-widgets/base",
            "overflow": null,
            "_model_module_version": "1.2.0",
            "_view_count": null,
            "flex_flow": null,
            "width": null,
            "min_width": null,
            "border": null,
            "align_items": null,
            "bottom": null,
            "_model_module": "@jupyter-widgets/base",
            "top": null,
            "grid_column": null,
            "overflow_y": null,
            "overflow_x": null,
            "grid_auto_flow": null,
            "grid_area": null,
            "grid_template_columns": null,
            "flex": null,
            "_model_name": "LayoutModel",
            "justify_items": null,
            "grid_row": null,
            "max_height": null,
            "align_content": null,
            "visibility": null,
            "align_self": null,
            "height": null,
            "min_height": null,
            "padding": null,
            "grid_auto_rows": null,
            "grid_gap": null,
            "max_width": null,
            "order": null,
            "_view_module_version": "1.2.0",
            "grid_template_areas": null,
            "object_position": null,
            "object_fit": null,
            "grid_auto_columns": null,
            "margin": null,
            "display": null,
            "left": null
          }
        },
        "1b755de6443d4321ab36df9c9a188c03": {
          "model_module": "@jupyter-widgets/controls",
          "model_name": "FloatProgressModel",
          "state": {
            "_view_name": "ProgressView",
            "style": "IPY_MODEL_411859d0550c48ad9b57350a6f531554",
            "_dom_classes": [],
            "description": "Downloading: 100%",
            "_model_name": "FloatProgressModel",
            "bar_style": "success",
            "max": 442,
            "_view_module": "@jupyter-widgets/controls",
            "_model_module_version": "1.5.0",
            "value": 442,
            "_view_count": null,
            "_view_module_version": "1.5.0",
            "orientation": "horizontal",
            "min": 0,
            "description_tooltip": null,
            "_model_module": "@jupyter-widgets/controls",
            "layout": "IPY_MODEL_7ebe9833317e40fd820424b54498eab0"
          }
        },
        "2e54b1f4c16b482ead80294a13b02d88": {
          "model_module": "@jupyter-widgets/controls",
          "model_name": "HTMLModel",
          "state": {
            "_view_name": "HTMLView",
            "style": "IPY_MODEL_6e5ece94992547d0a1bd6206968a50d0",
            "_dom_classes": [],
            "description": "",
            "_model_name": "HTMLModel",
            "placeholder": "​",
            "_view_module": "@jupyter-widgets/controls",
            "_model_module_version": "1.5.0",
            "value": " 442/442 [00:00&lt;00:00, 1.79kB/s]",
            "_view_count": null,
            "_view_module_version": "1.5.0",
            "description_tooltip": null,
            "_model_module": "@jupyter-widgets/controls",
            "layout": "IPY_MODEL_2003d791194a4aaf90ca80c6d81c5e85"
          }
        },
        "411859d0550c48ad9b57350a6f531554": {
          "model_module": "@jupyter-widgets/controls",
          "model_name": "ProgressStyleModel",
          "state": {
            "_view_name": "StyleView",
            "_model_name": "ProgressStyleModel",
            "description_width": "initial",
            "_view_module": "@jupyter-widgets/base",
            "_model_module_version": "1.5.0",
            "_view_count": null,
            "_view_module_version": "1.2.0",
            "bar_color": null,
            "_model_module": "@jupyter-widgets/controls"
          }
        },
        "7ebe9833317e40fd820424b54498eab0": {
          "model_module": "@jupyter-widgets/base",
          "model_name": "LayoutModel",
          "state": {
            "_view_name": "LayoutView",
            "grid_template_rows": null,
            "right": null,
            "justify_content": null,
            "_view_module": "@jupyter-widgets/base",
            "overflow": null,
            "_model_module_version": "1.2.0",
            "_view_count": null,
            "flex_flow": null,
            "width": null,
            "min_width": null,
            "border": null,
            "align_items": null,
            "bottom": null,
            "_model_module": "@jupyter-widgets/base",
            "top": null,
            "grid_column": null,
            "overflow_y": null,
            "overflow_x": null,
            "grid_auto_flow": null,
            "grid_area": null,
            "grid_template_columns": null,
            "flex": null,
            "_model_name": "LayoutModel",
            "justify_items": null,
            "grid_row": null,
            "max_height": null,
            "align_content": null,
            "visibility": null,
            "align_self": null,
            "height": null,
            "min_height": null,
            "padding": null,
            "grid_auto_rows": null,
            "grid_gap": null,
            "max_width": null,
            "order": null,
            "_view_module_version": "1.2.0",
            "grid_template_areas": null,
            "object_position": null,
            "object_fit": null,
            "grid_auto_columns": null,
            "margin": null,
            "display": null,
            "left": null
          }
        },
        "6e5ece94992547d0a1bd6206968a50d0": {
          "model_module": "@jupyter-widgets/controls",
          "model_name": "DescriptionStyleModel",
          "state": {
            "_view_name": "StyleView",
            "_model_name": "DescriptionStyleModel",
            "description_width": "",
            "_view_module": "@jupyter-widgets/base",
            "_model_module_version": "1.5.0",
            "_view_count": null,
            "_view_module_version": "1.2.0",
            "_model_module": "@jupyter-widgets/controls"
          }
        },
        "2003d791194a4aaf90ca80c6d81c5e85": {
          "model_module": "@jupyter-widgets/base",
          "model_name": "LayoutModel",
          "state": {
            "_view_name": "LayoutView",
            "grid_template_rows": null,
            "right": null,
            "justify_content": null,
            "_view_module": "@jupyter-widgets/base",
            "overflow": null,
            "_model_module_version": "1.2.0",
            "_view_count": null,
            "flex_flow": null,
            "width": null,
            "min_width": null,
            "border": null,
            "align_items": null,
            "bottom": null,
            "_model_module": "@jupyter-widgets/base",
            "top": null,
            "grid_column": null,
            "overflow_y": null,
            "overflow_x": null,
            "grid_auto_flow": null,
            "grid_area": null,
            "grid_template_columns": null,
            "flex": null,
            "_model_name": "LayoutModel",
            "justify_items": null,
            "grid_row": null,
            "max_height": null,
            "align_content": null,
            "visibility": null,
            "align_self": null,
            "height": null,
            "min_height": null,
            "padding": null,
            "grid_auto_rows": null,
            "grid_gap": null,
            "max_width": null,
            "order": null,
            "_view_module_version": "1.2.0",
            "grid_template_areas": null,
            "object_position": null,
            "object_fit": null,
            "grid_auto_columns": null,
            "margin": null,
            "display": null,
            "left": null
          }
        },
        "46981596b76e46108f64b9faa3d3525f": {
          "model_module": "@jupyter-widgets/controls",
          "model_name": "HBoxModel",
          "state": {
            "_view_name": "HBoxView",
            "_dom_classes": [],
            "_model_name": "HBoxModel",
            "_view_module": "@jupyter-widgets/controls",
            "_model_module_version": "1.5.0",
            "_view_count": null,
            "_view_module_version": "1.5.0",
            "box_style": "",
            "layout": "IPY_MODEL_2c9e971867ef4814be67a7ea3c4348c5",
            "_model_module": "@jupyter-widgets/controls",
            "children": [
              "IPY_MODEL_12e3d9eee01b494e9e42664024f670a3",
              "IPY_MODEL_ed2380f691924ee5aead6bfac2ea6296"
            ]
          }
        },
        "2c9e971867ef4814be67a7ea3c4348c5": {
          "model_module": "@jupyter-widgets/base",
          "model_name": "LayoutModel",
          "state": {
            "_view_name": "LayoutView",
            "grid_template_rows": null,
            "right": null,
            "justify_content": null,
            "_view_module": "@jupyter-widgets/base",
            "overflow": null,
            "_model_module_version": "1.2.0",
            "_view_count": null,
            "flex_flow": null,
            "width": null,
            "min_width": null,
            "border": null,
            "align_items": null,
            "bottom": null,
            "_model_module": "@jupyter-widgets/base",
            "top": null,
            "grid_column": null,
            "overflow_y": null,
            "overflow_x": null,
            "grid_auto_flow": null,
            "grid_area": null,
            "grid_template_columns": null,
            "flex": null,
            "_model_name": "LayoutModel",
            "justify_items": null,
            "grid_row": null,
            "max_height": null,
            "align_content": null,
            "visibility": null,
            "align_self": null,
            "height": null,
            "min_height": null,
            "padding": null,
            "grid_auto_rows": null,
            "grid_gap": null,
            "max_width": null,
            "order": null,
            "_view_module_version": "1.2.0",
            "grid_template_areas": null,
            "object_position": null,
            "object_fit": null,
            "grid_auto_columns": null,
            "margin": null,
            "display": null,
            "left": null
          }
        },
        "12e3d9eee01b494e9e42664024f670a3": {
          "model_module": "@jupyter-widgets/controls",
          "model_name": "FloatProgressModel",
          "state": {
            "_view_name": "ProgressView",
            "style": "IPY_MODEL_288706d2dde5405baf8ce4ca21c0cfe0",
            "_dom_classes": [],
            "description": "Downloading: 100%",
            "_model_name": "FloatProgressModel",
            "bar_style": "success",
            "max": 267967963,
            "_view_module": "@jupyter-widgets/controls",
            "_model_module_version": "1.5.0",
            "value": 267967963,
            "_view_count": null,
            "_view_module_version": "1.5.0",
            "orientation": "horizontal",
            "min": 0,
            "description_tooltip": null,
            "_model_module": "@jupyter-widgets/controls",
            "layout": "IPY_MODEL_e52c79244b4749da9083b426a166beb6"
          }
        },
        "ed2380f691924ee5aead6bfac2ea6296": {
          "model_module": "@jupyter-widgets/controls",
          "model_name": "HTMLModel",
          "state": {
            "_view_name": "HTMLView",
            "style": "IPY_MODEL_d16497c2d5bf4028b9131eb9780439d7",
            "_dom_classes": [],
            "description": "",
            "_model_name": "HTMLModel",
            "placeholder": "​",
            "_view_module": "@jupyter-widgets/controls",
            "_model_module_version": "1.5.0",
            "value": " 268M/268M [00:30&lt;00:00, 8.71MB/s]",
            "_view_count": null,
            "_view_module_version": "1.5.0",
            "description_tooltip": null,
            "_model_module": "@jupyter-widgets/controls",
            "layout": "IPY_MODEL_d03d52c90aa444309916aa8371493474"
          }
        },
        "288706d2dde5405baf8ce4ca21c0cfe0": {
          "model_module": "@jupyter-widgets/controls",
          "model_name": "ProgressStyleModel",
          "state": {
            "_view_name": "StyleView",
            "_model_name": "ProgressStyleModel",
            "description_width": "initial",
            "_view_module": "@jupyter-widgets/base",
            "_model_module_version": "1.5.0",
            "_view_count": null,
            "_view_module_version": "1.2.0",
            "bar_color": null,
            "_model_module": "@jupyter-widgets/controls"
          }
        },
        "e52c79244b4749da9083b426a166beb6": {
          "model_module": "@jupyter-widgets/base",
          "model_name": "LayoutModel",
          "state": {
            "_view_name": "LayoutView",
            "grid_template_rows": null,
            "right": null,
            "justify_content": null,
            "_view_module": "@jupyter-widgets/base",
            "overflow": null,
            "_model_module_version": "1.2.0",
            "_view_count": null,
            "flex_flow": null,
            "width": null,
            "min_width": null,
            "border": null,
            "align_items": null,
            "bottom": null,
            "_model_module": "@jupyter-widgets/base",
            "top": null,
            "grid_column": null,
            "overflow_y": null,
            "overflow_x": null,
            "grid_auto_flow": null,
            "grid_area": null,
            "grid_template_columns": null,
            "flex": null,
            "_model_name": "LayoutModel",
            "justify_items": null,
            "grid_row": null,
            "max_height": null,
            "align_content": null,
            "visibility": null,
            "align_self": null,
            "height": null,
            "min_height": null,
            "padding": null,
            "grid_auto_rows": null,
            "grid_gap": null,
            "max_width": null,
            "order": null,
            "_view_module_version": "1.2.0",
            "grid_template_areas": null,
            "object_position": null,
            "object_fit": null,
            "grid_auto_columns": null,
            "margin": null,
            "display": null,
            "left": null
          }
        },
        "d16497c2d5bf4028b9131eb9780439d7": {
          "model_module": "@jupyter-widgets/controls",
          "model_name": "DescriptionStyleModel",
          "state": {
            "_view_name": "StyleView",
            "_model_name": "DescriptionStyleModel",
            "description_width": "",
            "_view_module": "@jupyter-widgets/base",
            "_model_module_version": "1.5.0",
            "_view_count": null,
            "_view_module_version": "1.2.0",
            "_model_module": "@jupyter-widgets/controls"
          }
        },
        "d03d52c90aa444309916aa8371493474": {
          "model_module": "@jupyter-widgets/base",
          "model_name": "LayoutModel",
          "state": {
            "_view_name": "LayoutView",
            "grid_template_rows": null,
            "right": null,
            "justify_content": null,
            "_view_module": "@jupyter-widgets/base",
            "overflow": null,
            "_model_module_version": "1.2.0",
            "_view_count": null,
            "flex_flow": null,
            "width": null,
            "min_width": null,
            "border": null,
            "align_items": null,
            "bottom": null,
            "_model_module": "@jupyter-widgets/base",
            "top": null,
            "grid_column": null,
            "overflow_y": null,
            "overflow_x": null,
            "grid_auto_flow": null,
            "grid_area": null,
            "grid_template_columns": null,
            "flex": null,
            "_model_name": "LayoutModel",
            "justify_items": null,
            "grid_row": null,
            "max_height": null,
            "align_content": null,
            "visibility": null,
            "align_self": null,
            "height": null,
            "min_height": null,
            "padding": null,
            "grid_auto_rows": null,
            "grid_gap": null,
            "max_width": null,
            "order": null,
            "_view_module_version": "1.2.0",
            "grid_template_areas": null,
            "object_position": null,
            "object_fit": null,
            "grid_auto_columns": null,
            "margin": null,
            "display": null,
            "left": null
          }
        }
      }
    },
    "accelerator": "GPU"
  },
  "cells": [
    {
      "cell_type": "markdown",
      "metadata": {
        "id": "nKt_dF_7yzzY"
      },
      "source": [
        "Building movie recommender based on Tfidf Vectorizer and BERT pre-trained model\n",
        "\n",
        "DATASET : https://www.kaggle.com/jrobischon/wikipedia-movie-plots\n",
        "\n",
        "Using a subset of the above dataset. Total movies considered=3000\n",
        "\n",
        "---\n",
        "\n",
        "\n",
        "\n"
      ]
    },
    {
      "cell_type": "markdown",
      "metadata": {
        "id": "pizWdQspzvdR"
      },
      "source": [
        "**APPROACH 1: USING TERM FREQUENCY-INVERSE DOCUMENT FREQUENCY (TFIDF)**"
      ]
    },
    {
      "cell_type": "code",
      "metadata": {
        "id": "gyachbywaSHT"
      },
      "source": [
        "import pandas as pd"
      ],
      "execution_count": 1,
      "outputs": []
    },
    {
      "cell_type": "code",
      "metadata": {
        "id": "IJM_NwM-Oi9v",
        "colab": {
          "base_uri": "https://localhost:8080/"
        },
        "outputId": "484fc967-665e-469a-8667-377230a12941"
      },
      "source": [
        "from google.colab import drive\n",
        "drive.mount('/content/drive')"
      ],
      "execution_count": 2,
      "outputs": [
        {
          "output_type": "stream",
          "text": [
            "Mounted at /content/drive\n"
          ],
          "name": "stdout"
        }
      ]
    },
    {
      "cell_type": "code",
      "metadata": {
        "id": "qBeizPhBi3d0"
      },
      "source": [
        "dataset_path=\"drive/My Drive/wiki_movie_plots_deduped.csv\"\n",
        "data=pd.read_csv(dataset_path)"
      ],
      "execution_count": 3,
      "outputs": []
    },
    {
      "cell_type": "code",
      "metadata": {
        "id": "O6igpa3VjAOD",
        "colab": {
          "base_uri": "https://localhost:8080/",
          "height": 306
        },
        "outputId": "6472a68d-6dd1-4ec7-bfe7-591055f81ac9"
      },
      "source": [
        "data.head()"
      ],
      "execution_count": 4,
      "outputs": [
        {
          "output_type": "execute_result",
          "data": {
            "text/html": [
              "<div>\n",
              "<style scoped>\n",
              "    .dataframe tbody tr th:only-of-type {\n",
              "        vertical-align: middle;\n",
              "    }\n",
              "\n",
              "    .dataframe tbody tr th {\n",
              "        vertical-align: top;\n",
              "    }\n",
              "\n",
              "    .dataframe thead th {\n",
              "        text-align: right;\n",
              "    }\n",
              "</style>\n",
              "<table border=\"1\" class=\"dataframe\">\n",
              "  <thead>\n",
              "    <tr style=\"text-align: right;\">\n",
              "      <th></th>\n",
              "      <th>Release Year</th>\n",
              "      <th>Title</th>\n",
              "      <th>Origin/Ethnicity</th>\n",
              "      <th>Director</th>\n",
              "      <th>Cast</th>\n",
              "      <th>Genre</th>\n",
              "      <th>Wiki Page</th>\n",
              "      <th>Plot</th>\n",
              "    </tr>\n",
              "  </thead>\n",
              "  <tbody>\n",
              "    <tr>\n",
              "      <th>0</th>\n",
              "      <td>1901</td>\n",
              "      <td>Kansas Saloon Smashers</td>\n",
              "      <td>American</td>\n",
              "      <td>Unknown</td>\n",
              "      <td>NaN</td>\n",
              "      <td>unknown</td>\n",
              "      <td>https://en.wikipedia.org/wiki/Kansas_Saloon_Sm...</td>\n",
              "      <td>A bartender is working at a saloon, serving dr...</td>\n",
              "    </tr>\n",
              "    <tr>\n",
              "      <th>1</th>\n",
              "      <td>1901</td>\n",
              "      <td>Love by the Light of the Moon</td>\n",
              "      <td>American</td>\n",
              "      <td>Unknown</td>\n",
              "      <td>NaN</td>\n",
              "      <td>unknown</td>\n",
              "      <td>https://en.wikipedia.org/wiki/Love_by_the_Ligh...</td>\n",
              "      <td>The moon, painted with a smiling face hangs ov...</td>\n",
              "    </tr>\n",
              "    <tr>\n",
              "      <th>2</th>\n",
              "      <td>1901</td>\n",
              "      <td>The Martyred Presidents</td>\n",
              "      <td>American</td>\n",
              "      <td>Unknown</td>\n",
              "      <td>NaN</td>\n",
              "      <td>unknown</td>\n",
              "      <td>https://en.wikipedia.org/wiki/The_Martyred_Pre...</td>\n",
              "      <td>The film, just over a minute long, is composed...</td>\n",
              "    </tr>\n",
              "    <tr>\n",
              "      <th>3</th>\n",
              "      <td>1901</td>\n",
              "      <td>Terrible Teddy, the Grizzly King</td>\n",
              "      <td>American</td>\n",
              "      <td>Unknown</td>\n",
              "      <td>NaN</td>\n",
              "      <td>unknown</td>\n",
              "      <td>https://en.wikipedia.org/wiki/Terrible_Teddy,_...</td>\n",
              "      <td>Lasting just 61 seconds and consisting of two ...</td>\n",
              "    </tr>\n",
              "    <tr>\n",
              "      <th>4</th>\n",
              "      <td>1902</td>\n",
              "      <td>Jack and the Beanstalk</td>\n",
              "      <td>American</td>\n",
              "      <td>George S. Fleming, Edwin S. Porter</td>\n",
              "      <td>NaN</td>\n",
              "      <td>unknown</td>\n",
              "      <td>https://en.wikipedia.org/wiki/Jack_and_the_Bea...</td>\n",
              "      <td>The earliest known adaptation of the classic f...</td>\n",
              "    </tr>\n",
              "  </tbody>\n",
              "</table>\n",
              "</div>"
            ],
            "text/plain": [
              "   Release Year  ...                                               Plot\n",
              "0          1901  ...  A bartender is working at a saloon, serving dr...\n",
              "1          1901  ...  The moon, painted with a smiling face hangs ov...\n",
              "2          1901  ...  The film, just over a minute long, is composed...\n",
              "3          1901  ...  Lasting just 61 seconds and consisting of two ...\n",
              "4          1902  ...  The earliest known adaptation of the classic f...\n",
              "\n",
              "[5 rows x 8 columns]"
            ]
          },
          "metadata": {
            "tags": []
          },
          "execution_count": 4
        }
      ]
    },
    {
      "cell_type": "code",
      "metadata": {
        "id": "DNDkK9zF5wKL",
        "colab": {
          "base_uri": "https://localhost:8080/"
        },
        "outputId": "51c81c3d-f7f4-4cf8-85a6-57e9110e8c3a"
      },
      "source": [
        "len(data)"
      ],
      "execution_count": 5,
      "outputs": [
        {
          "output_type": "execute_result",
          "data": {
            "text/plain": [
              "34886"
            ]
          },
          "metadata": {
            "tags": []
          },
          "execution_count": 5
        }
      ]
    },
    {
      "cell_type": "code",
      "metadata": {
        "id": "M46UCtXq3JES",
        "colab": {
          "base_uri": "https://localhost:8080/"
        },
        "outputId": "4879e5a4-8410-4ed1-b521-cc7c539210ae"
      },
      "source": [
        "import numpy as np\n",
        "np.unique(data['Origin/Ethnicity'])"
      ],
      "execution_count": 6,
      "outputs": [
        {
          "output_type": "execute_result",
          "data": {
            "text/plain": [
              "array(['American', 'Assamese', 'Australian', 'Bangladeshi', 'Bengali',\n",
              "       'Bollywood', 'British', 'Canadian', 'Chinese', 'Egyptian',\n",
              "       'Filipino', 'Hong Kong', 'Japanese', 'Kannada', 'Malayalam',\n",
              "       'Malaysian', 'Maldivian', 'Marathi', 'Punjabi', 'Russian',\n",
              "       'South_Korean', 'Tamil', 'Telugu', 'Turkish'], dtype=object)"
            ]
          },
          "metadata": {
            "tags": []
          },
          "execution_count": 6
        }
      ]
    },
    {
      "cell_type": "code",
      "metadata": {
        "id": "WpLlnw-E3oOh",
        "colab": {
          "base_uri": "https://localhost:8080/"
        },
        "outputId": "0e5b2247-f596-44f0-af89-135e0bc927d8"
      },
      "source": [
        "len(data.loc[data['Origin/Ethnicity']=='American'])"
      ],
      "execution_count": 7,
      "outputs": [
        {
          "output_type": "execute_result",
          "data": {
            "text/plain": [
              "17377"
            ]
          },
          "metadata": {
            "tags": []
          },
          "execution_count": 7
        }
      ]
    },
    {
      "cell_type": "code",
      "metadata": {
        "id": "FBUxu8dV4f57",
        "colab": {
          "base_uri": "https://localhost:8080/"
        },
        "outputId": "e8375d43-ed0f-4d9a-a90a-3f228c23c554"
      },
      "source": [
        "len(data.loc[data['Origin/Ethnicity']=='Telugu'])"
      ],
      "execution_count": 8,
      "outputs": [
        {
          "output_type": "execute_result",
          "data": {
            "text/plain": [
              "1311"
            ]
          },
          "metadata": {
            "tags": []
          },
          "execution_count": 8
        }
      ]
    },
    {
      "cell_type": "code",
      "metadata": {
        "id": "pMRhkQ4K4kgd",
        "colab": {
          "base_uri": "https://localhost:8080/"
        },
        "outputId": "f8832415-8b96-4745-c618-5645e67dc473"
      },
      "source": [
        "len(data.loc[data['Origin/Ethnicity']=='British'])"
      ],
      "execution_count": 9,
      "outputs": [
        {
          "output_type": "execute_result",
          "data": {
            "text/plain": [
              "3670"
            ]
          },
          "metadata": {
            "tags": []
          },
          "execution_count": 9
        }
      ]
    },
    {
      "cell_type": "code",
      "metadata": {
        "id": "1XgxpMvnS9ld"
      },
      "source": [
        "df1=pd.DataFrame(data.loc[data['Origin/Ethnicity']=='American'].iloc[13000:15000])\n",
        "df2=pd.DataFrame(data.loc[data['Origin/Ethnicity']=='British'].iloc[:1000])\n",
        "data=pd.concat([df1,df2],ignore_index=True)"
      ],
      "execution_count": 10,
      "outputs": []
    },
    {
      "cell_type": "code",
      "metadata": {
        "id": "OJpalHfGAAs6",
        "colab": {
          "base_uri": "https://localhost:8080/"
        },
        "outputId": "863c3619-f235-4caf-9016-4e9ba65b4f21"
      },
      "source": [
        "len(data)"
      ],
      "execution_count": 11,
      "outputs": [
        {
          "output_type": "execute_result",
          "data": {
            "text/plain": [
              "3000"
            ]
          },
          "metadata": {
            "tags": []
          },
          "execution_count": 11
        }
      ]
    },
    {
      "cell_type": "code",
      "metadata": {
        "id": "mmgCO7dBj6AV"
      },
      "source": [
        "finaldata=data[[\"Title\",\"Plot\"]]\n",
        "finaldata=finaldata.set_index('Title')"
      ],
      "execution_count": 12,
      "outputs": []
    },
    {
      "cell_type": "code",
      "metadata": {
        "id": "frXYjaQIkHmW",
        "colab": {
          "base_uri": "https://localhost:8080/",
          "height": 390
        },
        "outputId": "b3a195d9-e203-4d6f-c98e-e6c41c70c43e"
      },
      "source": [
        "finaldata.head(10)"
      ],
      "execution_count": 13,
      "outputs": [
        {
          "output_type": "execute_result",
          "data": {
            "text/html": [
              "<div>\n",
              "<style scoped>\n",
              "    .dataframe tbody tr th:only-of-type {\n",
              "        vertical-align: middle;\n",
              "    }\n",
              "\n",
              "    .dataframe tbody tr th {\n",
              "        vertical-align: top;\n",
              "    }\n",
              "\n",
              "    .dataframe thead th {\n",
              "        text-align: right;\n",
              "    }\n",
              "</style>\n",
              "<table border=\"1\" class=\"dataframe\">\n",
              "  <thead>\n",
              "    <tr style=\"text-align: right;\">\n",
              "      <th></th>\n",
              "      <th>Plot</th>\n",
              "    </tr>\n",
              "    <tr>\n",
              "      <th>Title</th>\n",
              "      <th></th>\n",
              "    </tr>\n",
              "  </thead>\n",
              "  <tbody>\n",
              "    <tr>\n",
              "      <th>Good Burger</th>\n",
              "      <td>On the first day of summer, slacker high schoo...</td>\n",
              "    </tr>\n",
              "    <tr>\n",
              "      <th>Good Will Hunting</th>\n",
              "      <td>Twenty-year-old Will Hunting of South Boston i...</td>\n",
              "    </tr>\n",
              "    <tr>\n",
              "      <th>Goodbye America</th>\n",
              "      <td>As the U.S. Subic Bay naval base's operations ...</td>\n",
              "    </tr>\n",
              "    <tr>\n",
              "      <th>Gridlock'd</th>\n",
              "      <td>Set in Detroit, Gridlock'd centers around hero...</td>\n",
              "    </tr>\n",
              "    <tr>\n",
              "      <th>Grosse Pointe Blank</th>\n",
              "      <td>Professional assassin Martin Blank finds himse...</td>\n",
              "    </tr>\n",
              "    <tr>\n",
              "      <th>Hacks</th>\n",
              "      <td>Brian (Stephen Rea) is a television writer-pro...</td>\n",
              "    </tr>\n",
              "    <tr>\n",
              "      <th>Hard Eight</th>\n",
              "      <td>Sydney, a gambler in his 60s, finds a young ma...</td>\n",
              "    </tr>\n",
              "    <tr>\n",
              "      <th>Henry Fool</th>\n",
              "      <td>Socially inept garbage-man Simon Grim is befri...</td>\n",
              "    </tr>\n",
              "    <tr>\n",
              "      <th>Hercules</th>\n",
              "      <td>In Ancient Greece, after imprisoning the Titan...</td>\n",
              "    </tr>\n",
              "    <tr>\n",
              "      <th>Highball</th>\n",
              "      <td>A newly married couple decides to improve thei...</td>\n",
              "    </tr>\n",
              "  </tbody>\n",
              "</table>\n",
              "</div>"
            ],
            "text/plain": [
              "                                                                  Plot\n",
              "Title                                                                 \n",
              "Good Burger          On the first day of summer, slacker high schoo...\n",
              "Good Will Hunting    Twenty-year-old Will Hunting of South Boston i...\n",
              "Goodbye America      As the U.S. Subic Bay naval base's operations ...\n",
              "Gridlock'd           Set in Detroit, Gridlock'd centers around hero...\n",
              "Grosse Pointe Blank  Professional assassin Martin Blank finds himse...\n",
              "Hacks                Brian (Stephen Rea) is a television writer-pro...\n",
              "Hard Eight           Sydney, a gambler in his 60s, finds a young ma...\n",
              "Henry Fool           Socially inept garbage-man Simon Grim is befri...\n",
              "Hercules             In Ancient Greece, after imprisoning the Titan...\n",
              "Highball             A newly married couple decides to improve thei..."
            ]
          },
          "metadata": {
            "tags": []
          },
          "execution_count": 13
        }
      ]
    },
    {
      "cell_type": "code",
      "metadata": {
        "id": "RLBR-0GJkJMn",
        "colab": {
          "base_uri": "https://localhost:8080/",
          "height": 137
        },
        "outputId": "f6114edd-4b37-438a-c8a7-7ccca6932604"
      },
      "source": [
        "finaldata[\"Plot\"][0]"
      ],
      "execution_count": 14,
      "outputs": [
        {
          "output_type": "execute_result",
          "data": {
            "application/vnd.google.colaboratory.intrinsic+json": {
              "type": "string"
            },
            "text/plain": [
              "\"On the first day of summer, slacker high school student Dexter Reed takes his mother's car on a joyride while she is on a business trip and accidentally crashes into and damages the car of his teacher, Mr. Wheat. Dexter is in danger of going to jail, as he does not have a driver's license or insurance. But Mr. Wheat agrees to let Dexter pay for the damages to both cars in exchange for not calling the police on Dexter. With the damages estimated at $1,900, Dexter is forced to get a summer job. After being dismissed from the new, soon-to-open Mondo Burger for clashing with and insulting the owner/manager, Kurt Bozwell, he ends up finding employment at Good Burger where he meets and reluctantly befriends dimwitted Ed and a host of other colorful employees. Initially, neither of them are aware that it was Ed who inadvertently caused Dexter's car accident; Ed had been on his way to make a delivery, and skated in front of Dexter, causing him to swerve out of control and crash into Mr. Wheat.\\r\\nThe survival of the smaller Good Burger is threatened by the grand opening of Mondo Burger, with its fancy decor and oversized burgers, but Good Burger is saved by Ed's new secret sauce. Upon realizing that Ed caused his car accident, and learning from Mr. Wheat that the true damages from the accident exceed the original $1,900 estimate (now $2,500), Dexter takes advantage of Ed to make money off the secret sauce in order to pay off his debt sooner. Ed signs a contract that gives Dexter 80% of his profits.\\r\\nEd's sauce vastly improves Good Burger's sales and draws the attention of Kurt Bozwell, who wants it for Mondo Burger. Kurt fails at luring Ed to Mondo Burger at a higher wage, and sends Roxanne, a beautiful employee, to seduce the sauce recipe from Ed; this ends with Roxanne being repeatedly injured by Ed's clumsiness and ultimately quitting her job.\\r\\nLater on, when they notice a dog's refusal to eat a discarded Mondo Burger in favor of a Good Burger, Ed and Dexter become suspicious and decide to investigate. Disguised as fashionable women, the two infiltrate Mondo Burger's kitchen and discover that their burgers are being artificially enhanced with Triampathol, an illegal chemical. Kurt discovers them, and calls an acquaintance named Wade, who has them committed to an asylum called Demented Hills so they can't tell the public.\\r\\nThreatened by the success of Ed's sauce, Kurt and his men break into Good Burger after hours and taint Ed's secret sauce with shark poison, but are confronted by Otis, an elderly Good Burger employee who was sleeping on the premises, leading Kurt to commit Otis to Demented Hills as well. After informing Ed and Dexter about Kurt's scheme, the three of them manage to escape Demented Hills and steal an ice cream truck to drive themselves back to Good Burger, arriving just in time to prevent anyone from eating the poisoned sauce.\\r\\nEd and Dexter then break into Mondo Burger to expose their chemically induced burgers to the police. Dexter creates a diversion, during which Ed tries to take a can of Triampathol, but clumsily knocks one into the meat grinder. Inspired, Ed pours nearly the entire supply into the grinder. Meanwhile, Kurt has captured Dexter, when suddenly Ed arrives bearing an empty can. Kurt mocks Ed's presumed foolishness, whereupon Ed snidely comments that the can wasn't empty when he found it. At that moment, chaos ensues in the Mondo Burger building, as the burgers begin exploding due to overuse of Triampathol.\\r\\nIn the aftermath, Kurt is arrested for using the illegal substance and Mondo Burger is destroyed, with a large, artificial burger destroying Mr. Wheat's newly repaired car as well. Dexter also tears up the contract he formed with Ed and tells him that he gets to keep all the profits from his sauce. Ed and Dexter then walk back to Good Burger where they are both praised by the other employees as heroes for saving the restaurant.\""
            ]
          },
          "metadata": {
            "tags": []
          },
          "execution_count": 14
        }
      ]
    },
    {
      "cell_type": "code",
      "metadata": {
        "id": "Ij1R1CRCi-zn",
        "colab": {
          "base_uri": "https://localhost:8080/"
        },
        "outputId": "7b5c6d85-96dd-48f1-f4f4-949b7da784ae"
      },
      "source": [
        "import nltk\n",
        "nltk.download('punkt')\n",
        "nltk.download('averaged_perceptron_tagger')\n",
        "nltk.download('wordnet')\n",
        "from nltk.stem import WordNetLemmatizer\n",
        "lemmatizer=WordNetLemmatizer()"
      ],
      "execution_count": 15,
      "outputs": [
        {
          "output_type": "stream",
          "text": [
            "[nltk_data] Downloading package punkt to /root/nltk_data...\n",
            "[nltk_data]   Unzipping tokenizers/punkt.zip.\n",
            "[nltk_data] Downloading package averaged_perceptron_tagger to\n",
            "[nltk_data]     /root/nltk_data...\n",
            "[nltk_data]   Unzipping taggers/averaged_perceptron_tagger.zip.\n",
            "[nltk_data] Downloading package wordnet to /root/nltk_data...\n",
            "[nltk_data]   Unzipping corpora/wordnet.zip.\n"
          ],
          "name": "stdout"
        }
      ]
    },
    {
      "cell_type": "code",
      "metadata": {
        "id": "6hBYPspJjNtl",
        "colab": {
          "base_uri": "https://localhost:8080/"
        },
        "outputId": "f2675202-ffcf-4dad-f92e-26dbd36a719b"
      },
      "source": [
        "from nltk.corpus import stopwords\n",
        "nltk.download('stopwords')\n",
        "stop_words=set(stopwords.words('english'))"
      ],
      "execution_count": 16,
      "outputs": [
        {
          "output_type": "stream",
          "text": [
            "[nltk_data] Downloading package stopwords to /root/nltk_data...\n",
            "[nltk_data]   Unzipping corpora/stopwords.zip.\n"
          ],
          "name": "stdout"
        }
      ]
    },
    {
      "cell_type": "code",
      "metadata": {
        "id": "jd9eQqTjlxeW"
      },
      "source": [
        "VERB_CODES = {'VB', 'VBD', 'VBG', 'VBN', 'VBP', 'VBZ'}"
      ],
      "execution_count": 17,
      "outputs": []
    },
    {
      "cell_type": "code",
      "metadata": {
        "id": "p3f4w3Ymh_S_"
      },
      "source": [
        "def preprocess_sentences(text):\n",
        "  text=text.lower()\n",
        "  temp_sent=[]\n",
        "  words=nltk.word_tokenize(text)\n",
        "  tags=nltk.pos_tag(words)\n",
        "  for i, word in enumerate(words):\n",
        "      if tags[i][1] in VERB_CODES: \n",
        "          lemmatized = lemmatizer.lemmatize(word, 'v')\n",
        "      else:\n",
        "          lemmatized =lemmatizer.lemmatize(word)\n",
        "      if lemmatized not in stop_words and lemmatized.isalpha():\n",
        "          temp_sent.append(lemmatized)\n",
        "        \n",
        "  finalsent = ' '.join(temp_sent)\n",
        "  finalsent = finalsent.replace(\"n't\", \" not\")\n",
        "  finalsent = finalsent.replace(\"'m\", \" am\")\n",
        "  finalsent = finalsent.replace(\"'s\", \" is\")\n",
        "  finalsent = finalsent.replace(\"'re\",\" are\")\n",
        "  finalsent = finalsent.replace(\"'ll\", \" will\")\n",
        "  finalsent = finalsent.replace(\"'ve\", \" have\")\n",
        "  finalsent = finalsent.replace(\"'d\", \" would\")\n",
        "  return finalsent\n"
      ],
      "execution_count": 18,
      "outputs": []
    },
    {
      "cell_type": "code",
      "metadata": {
        "id": "4fFuuONOiAPE"
      },
      "source": [
        "finaldata[\"plot_processed\"]=finaldata[\"Plot\"].apply(preprocess_sentences)"
      ],
      "execution_count": 19,
      "outputs": []
    },
    {
      "cell_type": "code",
      "metadata": {
        "id": "iqt6pwTPovpU",
        "colab": {
          "base_uri": "https://localhost:8080/",
          "height": 235
        },
        "outputId": "9ac6af41-d577-40c4-decf-f4f14c3fdf13"
      },
      "source": [
        "finaldata.head()"
      ],
      "execution_count": 20,
      "outputs": [
        {
          "output_type": "execute_result",
          "data": {
            "text/html": [
              "<div>\n",
              "<style scoped>\n",
              "    .dataframe tbody tr th:only-of-type {\n",
              "        vertical-align: middle;\n",
              "    }\n",
              "\n",
              "    .dataframe tbody tr th {\n",
              "        vertical-align: top;\n",
              "    }\n",
              "\n",
              "    .dataframe thead th {\n",
              "        text-align: right;\n",
              "    }\n",
              "</style>\n",
              "<table border=\"1\" class=\"dataframe\">\n",
              "  <thead>\n",
              "    <tr style=\"text-align: right;\">\n",
              "      <th></th>\n",
              "      <th>Plot</th>\n",
              "      <th>plot_processed</th>\n",
              "    </tr>\n",
              "    <tr>\n",
              "      <th>Title</th>\n",
              "      <th></th>\n",
              "      <th></th>\n",
              "    </tr>\n",
              "  </thead>\n",
              "  <tbody>\n",
              "    <tr>\n",
              "      <th>Good Burger</th>\n",
              "      <td>On the first day of summer, slacker high schoo...</td>\n",
              "      <td>first day summer slacker high school student d...</td>\n",
              "    </tr>\n",
              "    <tr>\n",
              "      <th>Good Will Hunting</th>\n",
              "      <td>Twenty-year-old Will Hunting of South Boston i...</td>\n",
              "      <td>hunt south boston genius though work janitor m...</td>\n",
              "    </tr>\n",
              "    <tr>\n",
              "      <th>Goodbye America</th>\n",
              "      <td>As the U.S. Subic Bay naval base's operations ...</td>\n",
              "      <td>subic bay naval base operation slowly wind nav...</td>\n",
              "    </tr>\n",
              "    <tr>\n",
              "      <th>Gridlock'd</th>\n",
              "      <td>Set in Detroit, Gridlock'd centers around hero...</td>\n",
              "      <td>set detroit gridlock center around heroin addi...</td>\n",
              "    </tr>\n",
              "    <tr>\n",
              "      <th>Grosse Pointe Blank</th>\n",
              "      <td>Professional assassin Martin Blank finds himse...</td>\n",
              "      <td>professional assassin martin blank find depres...</td>\n",
              "    </tr>\n",
              "  </tbody>\n",
              "</table>\n",
              "</div>"
            ],
            "text/plain": [
              "                                                                  Plot                                     plot_processed\n",
              "Title                                                                                                                    \n",
              "Good Burger          On the first day of summer, slacker high schoo...  first day summer slacker high school student d...\n",
              "Good Will Hunting    Twenty-year-old Will Hunting of South Boston i...  hunt south boston genius though work janitor m...\n",
              "Goodbye America      As the U.S. Subic Bay naval base's operations ...  subic bay naval base operation slowly wind nav...\n",
              "Gridlock'd           Set in Detroit, Gridlock'd centers around hero...  set detroit gridlock center around heroin addi...\n",
              "Grosse Pointe Blank  Professional assassin Martin Blank finds himse...  professional assassin martin blank find depres..."
            ]
          },
          "metadata": {
            "tags": []
          },
          "execution_count": 20
        }
      ]
    },
    {
      "cell_type": "code",
      "metadata": {
        "id": "XAdew68do1tQ"
      },
      "source": [
        "from sklearn.feature_extraction.text import TfidfVectorizer\n",
        "tfidfvec=TfidfVectorizer()"
      ],
      "execution_count": 21,
      "outputs": []
    },
    {
      "cell_type": "code",
      "metadata": {
        "id": "LfBqI9_NvMT0"
      },
      "source": [
        "tfidf_movieid=tfidfvec.fit_transform((finaldata[\"plot_processed\"]))"
      ],
      "execution_count": 22,
      "outputs": []
    },
    {
      "cell_type": "code",
      "metadata": {
        "id": "JfPtvLh2viRs"
      },
      "source": [
        "from sklearn.metrics.pairwise import cosine_similarity\n",
        "cos_sim=cosine_similarity(tfidf_movieid,tfidf_movieid)"
      ],
      "execution_count": 23,
      "outputs": []
    },
    {
      "cell_type": "code",
      "metadata": {
        "id": "fDOf61KPxFZR"
      },
      "source": [
        "indices=pd.Series(finaldata.index)"
      ],
      "execution_count": 24,
      "outputs": []
    },
    {
      "cell_type": "code",
      "metadata": {
        "id": "VSrWhVaxxGSV"
      },
      "source": [
        "def recommendations(title, cosine_sim = cos_sim):\n",
        "    recommended_movies = []\n",
        "    index = indices[indices == title].index[0]\n",
        "    similarity_scores = pd.Series(cosine_sim[index]).sort_values(ascending = False)\n",
        "    top_10_movies = list(similarity_scores.iloc[1:11].index)\n",
        "    for i in top_10_movies:\n",
        "        recommended_movies.append(list(finaldata.index)[i])\n",
        "    return recommended_movies"
      ],
      "execution_count": 25,
      "outputs": []
    },
    {
      "cell_type": "code",
      "metadata": {
        "id": "1Ot0G4YKxLQt",
        "colab": {
          "base_uri": "https://localhost:8080/"
        },
        "outputId": "855a6e39-2391-4b04-b130-9270e5e346d0"
      },
      "source": [
        "recommendations(\"Harry Potter and the Chamber of Secrets\")"
      ],
      "execution_count": 26,
      "outputs": [
        {
          "output_type": "execute_result",
          "data": {
            "text/plain": [
              "[\"Harry Potter and the Sorcerer's Stone\",\n",
              " 'Harry Potter and the Goblet of Fire',\n",
              " 'Harry Potter and the Prisoner of Azkaban',\n",
              " 'Six Ways to Sunday',\n",
              " 'Twilight',\n",
              " ' The Tailor of Panama',\n",
              " 'Kiss Kiss Bang Bang',\n",
              " 'Palmetto',\n",
              " 'The Four Feathers',\n",
              " 'Dumb and Dumberer: When Harry Met Lloyd']"
            ]
          },
          "metadata": {
            "tags": []
          },
          "execution_count": 26
        }
      ]
    },
    {
      "cell_type": "code",
      "metadata": {
        "id": "WgFT9g_Zxv-2",
        "colab": {
          "base_uri": "https://localhost:8080/"
        },
        "outputId": "ddd76392-f3bf-4b10-d759-a42e82eeb90a"
      },
      "source": [
        "recommendations(\"Ice Age\")"
      ],
      "execution_count": 27,
      "outputs": [
        {
          "output_type": "execute_result",
          "data": {
            "text/plain": [
              "['Ice Age: The Meltdown',\n",
              " 'Bella',\n",
              " ' East Side Story',\n",
              " 'Mimic',\n",
              " 'Go',\n",
              " 'Flushed Away',\n",
              " 'Blow',\n",
              " 'Brown Sugar',\n",
              " 'Lords of Dogtown',\n",
              " 'Dinosaur']"
            ]
          },
          "metadata": {
            "tags": []
          },
          "execution_count": 27
        }
      ]
    },
    {
      "cell_type": "code",
      "metadata": {
        "id": "4LTYRpT5x2OD",
        "colab": {
          "base_uri": "https://localhost:8080/"
        },
        "outputId": "5807656f-3635-4413-9a19-6ed803040e1f"
      },
      "source": [
        "recommendations(\"Blackmail\")"
      ],
      "execution_count": 28,
      "outputs": [
        {
          "output_type": "execute_result",
          "data": {
            "text/plain": [
              "['The Last Days of Disco',\n",
              " 'Killing Me Softly',\n",
              " 'The Longest Yard',\n",
              " 'Closer',\n",
              " 'Bringing Out the Dead',\n",
              " 'Catch Me If You Can',\n",
              " 'Novocaine',\n",
              " 'The Phantom Light',\n",
              " 'Transporter 2',\n",
              " 'The Transporter']"
            ]
          },
          "metadata": {
            "tags": []
          },
          "execution_count": 28
        }
      ]
    },
    {
      "cell_type": "markdown",
      "metadata": {
        "id": "H6QKXidN5c8g"
      },
      "source": [
        "\n",
        "\n",
        "---\n",
        "\n"
      ]
    },
    {
      "cell_type": "markdown",
      "metadata": {
        "id": "0R0aATP0yL0V"
      },
      "source": [
        "**APPROACH 2: (Transfer learning)\n",
        "    Building movie recommender on pre-trained Bidirectional Encoder Representations from Transformers (BERT) model** \n"
      ]
    },
    {
      "cell_type": "markdown",
      "metadata": {
        "id": "66JT36kX02mZ"
      },
      "source": [
        "Using transfer learning technique, weights of the pre trained BERT model are used by feature extraction and the model is further trained on our dataset.\n",
        "BERT model is loaded using pytorch with hugging face transformers package. We use a lighter and faster version of BERT-Distilled BERT.\n"
      ]
    },
    {
      "cell_type": "markdown",
      "metadata": {
        "id": "Zf_Jy2TB2OSd"
      },
      "source": [
        "**BERT model methodolgy:**\n",
        "\n",
        "BERT is basically a stack of transformer/ encoder layers. It understands the context of a sentence efficiently by observing the sentence from the left as well as from right i.e., bidirectionally. It is a pre trained language model, which performs the following two tasks primarily.\n",
        "1.   Masked Language Modelling (MLM) :\n",
        "2.   Next Sequence Prediction (NSP):\n",
        "\n",
        "\n"
      ]
    },
    {
      "cell_type": "code",
      "metadata": {
        "id": "Nv_MtjaGkztG",
        "colab": {
          "base_uri": "https://localhost:8080/"
        },
        "outputId": "857524b1-2d13-49e3-9a28-942a4135aa45"
      },
      "source": [
        "!pip install transformers #Hugging face transformer library-Has BERT language model"
      ],
      "execution_count": 29,
      "outputs": [
        {
          "output_type": "stream",
          "text": [
            "Collecting transformers\n",
            "\u001b[?25l  Downloading https://files.pythonhosted.org/packages/3a/83/e74092e7f24a08d751aa59b37a9fc572b2e4af3918cb66f7766c3affb1b4/transformers-3.5.1-py3-none-any.whl (1.3MB)\n",
            "\u001b[K     |████████████████████████████████| 1.3MB 13.2MB/s \n",
            "\u001b[?25hRequirement already satisfied: numpy in /usr/local/lib/python3.6/dist-packages (from transformers) (1.18.5)\n",
            "Requirement already satisfied: filelock in /usr/local/lib/python3.6/dist-packages (from transformers) (3.0.12)\n",
            "Requirement already satisfied: tqdm>=4.27 in /usr/local/lib/python3.6/dist-packages (from transformers) (4.41.1)\n",
            "Collecting sentencepiece==0.1.91\n",
            "\u001b[?25l  Downloading https://files.pythonhosted.org/packages/d4/a4/d0a884c4300004a78cca907a6ff9a5e9fe4f090f5d95ab341c53d28cbc58/sentencepiece-0.1.91-cp36-cp36m-manylinux1_x86_64.whl (1.1MB)\n",
            "\u001b[K     |████████████████████████████████| 1.1MB 33.4MB/s \n",
            "\u001b[?25hRequirement already satisfied: requests in /usr/local/lib/python3.6/dist-packages (from transformers) (2.23.0)\n",
            "Requirement already satisfied: packaging in /usr/local/lib/python3.6/dist-packages (from transformers) (20.4)\n",
            "Requirement already satisfied: regex!=2019.12.17 in /usr/local/lib/python3.6/dist-packages (from transformers) (2019.12.20)\n",
            "Collecting sacremoses\n",
            "\u001b[?25l  Downloading https://files.pythonhosted.org/packages/7d/34/09d19aff26edcc8eb2a01bed8e98f13a1537005d31e95233fd48216eed10/sacremoses-0.0.43.tar.gz (883kB)\n",
            "\u001b[K     |████████████████████████████████| 890kB 59.0MB/s \n",
            "\u001b[?25hCollecting tokenizers==0.9.3\n",
            "\u001b[?25l  Downloading https://files.pythonhosted.org/packages/4c/34/b39eb9994bc3c999270b69c9eea40ecc6f0e97991dba28282b9fd32d44ee/tokenizers-0.9.3-cp36-cp36m-manylinux1_x86_64.whl (2.9MB)\n",
            "\u001b[K     |████████████████████████████████| 2.9MB 46.6MB/s \n",
            "\u001b[?25hRequirement already satisfied: protobuf in /usr/local/lib/python3.6/dist-packages (from transformers) (3.12.4)\n",
            "Requirement already satisfied: dataclasses; python_version < \"3.7\" in /usr/local/lib/python3.6/dist-packages (from transformers) (0.8)\n",
            "Requirement already satisfied: chardet<4,>=3.0.2 in /usr/local/lib/python3.6/dist-packages (from requests->transformers) (3.0.4)\n",
            "Requirement already satisfied: urllib3!=1.25.0,!=1.25.1,<1.26,>=1.21.1 in /usr/local/lib/python3.6/dist-packages (from requests->transformers) (1.24.3)\n",
            "Requirement already satisfied: certifi>=2017.4.17 in /usr/local/lib/python3.6/dist-packages (from requests->transformers) (2020.11.8)\n",
            "Requirement already satisfied: idna<3,>=2.5 in /usr/local/lib/python3.6/dist-packages (from requests->transformers) (2.10)\n",
            "Requirement already satisfied: pyparsing>=2.0.2 in /usr/local/lib/python3.6/dist-packages (from packaging->transformers) (2.4.7)\n",
            "Requirement already satisfied: six in /usr/local/lib/python3.6/dist-packages (from packaging->transformers) (1.15.0)\n",
            "Requirement already satisfied: click in /usr/local/lib/python3.6/dist-packages (from sacremoses->transformers) (7.1.2)\n",
            "Requirement already satisfied: joblib in /usr/local/lib/python3.6/dist-packages (from sacremoses->transformers) (0.17.0)\n",
            "Requirement already satisfied: setuptools in /usr/local/lib/python3.6/dist-packages (from protobuf->transformers) (50.3.2)\n",
            "Building wheels for collected packages: sacremoses\n",
            "  Building wheel for sacremoses (setup.py) ... \u001b[?25l\u001b[?25hdone\n",
            "  Created wheel for sacremoses: filename=sacremoses-0.0.43-cp36-none-any.whl size=893257 sha256=366054bdddf97e6f50036d7954638f2e5ec67404dd7456e82b177ee920f0fce0\n",
            "  Stored in directory: /root/.cache/pip/wheels/29/3c/fd/7ce5c3f0666dab31a50123635e6fb5e19ceb42ce38d4e58f45\n",
            "Successfully built sacremoses\n",
            "Installing collected packages: sentencepiece, sacremoses, tokenizers, transformers\n",
            "Successfully installed sacremoses-0.0.43 sentencepiece-0.1.91 tokenizers-0.9.3 transformers-3.5.1\n"
          ],
          "name": "stdout"
        }
      ]
    },
    {
      "cell_type": "code",
      "metadata": {
        "id": "izR0AcEUlIyD"
      },
      "source": [
        "import torch"
      ],
      "execution_count": 30,
      "outputs": []
    },
    {
      "cell_type": "code",
      "metadata": {
        "id": "Nz7tmEd7leLx"
      },
      "source": [
        "import transformers"
      ],
      "execution_count": 31,
      "outputs": []
    },
    {
      "cell_type": "code",
      "metadata": {
        "id": "A32GlUVRlhM3"
      },
      "source": [
        "import warnings\n",
        "warnings.filterwarnings('ignore')"
      ],
      "execution_count": 32,
      "outputs": []
    },
    {
      "cell_type": "code",
      "metadata": {
        "id": "9d7jJbhXljdX"
      },
      "source": [
        "bert_model=transformers.DistilBertModel\n",
        "berttokenizer=transformers.DistilBertTokenizer\n",
        "weights_type=\"distilbert-base-uncased\""
      ],
      "execution_count": 33,
      "outputs": []
    },
    {
      "cell_type": "code",
      "metadata": {
        "id": "kXqqSIOvmYWW",
        "colab": {
          "base_uri": "https://localhost:8080/",
          "height": 164,
          "referenced_widgets": [
            "e72bb3abd6ca44e5beb1184d75639bbe",
            "90a569199ec7433780c094de2930b8de",
            "88ac430c223e4121bac687254b8367a4",
            "d28d3100fbea4432beaed0d354cc2626",
            "b36edb5cb3a34a6b8a4c14adb2d84cb3",
            "5dfcee9aaa5c4933818c0ff01a88195c",
            "6c6670ea9ba043f68a4cc4bb9f062c2e",
            "144831723ff34e329ad926ff892f28c7",
            "976bd9a6d6964b83a4fee28961e56d08",
            "98ed8b07a2444397a670c60e155587fb",
            "1b755de6443d4321ab36df9c9a188c03",
            "2e54b1f4c16b482ead80294a13b02d88",
            "411859d0550c48ad9b57350a6f531554",
            "7ebe9833317e40fd820424b54498eab0",
            "6e5ece94992547d0a1bd6206968a50d0",
            "2003d791194a4aaf90ca80c6d81c5e85",
            "46981596b76e46108f64b9faa3d3525f",
            "2c9e971867ef4814be67a7ea3c4348c5",
            "12e3d9eee01b494e9e42664024f670a3",
            "ed2380f691924ee5aead6bfac2ea6296",
            "288706d2dde5405baf8ce4ca21c0cfe0",
            "e52c79244b4749da9083b426a166beb6",
            "d16497c2d5bf4028b9131eb9780439d7",
            "d03d52c90aa444309916aa8371493474"
          ]
        },
        "outputId": "22756148-616a-4687-d2b2-7b4f93902e25"
      },
      "source": [
        "tokenizer=berttokenizer.from_pretrained(weights_type)\n",
        "model=bert_model.from_pretrained(weights_type)"
      ],
      "execution_count": 34,
      "outputs": [
        {
          "output_type": "display_data",
          "data": {
            "application/vnd.jupyter.widget-view+json": {
              "model_id": "e72bb3abd6ca44e5beb1184d75639bbe",
              "version_minor": 0,
              "version_major": 2
            },
            "text/plain": [
              "HBox(children=(FloatProgress(value=0.0, description='Downloading', max=231508.0, style=ProgressStyle(descripti…"
            ]
          },
          "metadata": {
            "tags": []
          }
        },
        {
          "output_type": "stream",
          "text": [
            "\n"
          ],
          "name": "stdout"
        },
        {
          "output_type": "display_data",
          "data": {
            "application/vnd.jupyter.widget-view+json": {
              "model_id": "976bd9a6d6964b83a4fee28961e56d08",
              "version_minor": 0,
              "version_major": 2
            },
            "text/plain": [
              "HBox(children=(FloatProgress(value=0.0, description='Downloading', max=442.0, style=ProgressStyle(description_…"
            ]
          },
          "metadata": {
            "tags": []
          }
        },
        {
          "output_type": "stream",
          "text": [
            "\n"
          ],
          "name": "stdout"
        },
        {
          "output_type": "display_data",
          "data": {
            "application/vnd.jupyter.widget-view+json": {
              "model_id": "46981596b76e46108f64b9faa3d3525f",
              "version_minor": 0,
              "version_major": 2
            },
            "text/plain": [
              "HBox(children=(FloatProgress(value=0.0, description='Downloading', max=267967963.0, style=ProgressStyle(descri…"
            ]
          },
          "metadata": {
            "tags": []
          }
        },
        {
          "output_type": "stream",
          "text": [
            "\n"
          ],
          "name": "stdout"
        }
      ]
    },
    {
      "cell_type": "code",
      "metadata": {
        "id": "MLhHTNMMoEGz"
      },
      "source": [
        "inputs=finaldata[\"Plot\"].apply((lambda plot: tokenizer.encode(plot, add_special_tokens=True,max_length=100,truncation=True)))"
      ],
      "execution_count": 35,
      "outputs": []
    },
    {
      "cell_type": "code",
      "metadata": {
        "id": "yjV5oje8rLEy",
        "colab": {
          "base_uri": "https://localhost:8080/"
        },
        "outputId": "1a07f460-87b4-4b8e-a740-6af44d51e8f3"
      },
      "source": [
        "inputs[0]"
      ],
      "execution_count": 36,
      "outputs": [
        {
          "output_type": "execute_result",
          "data": {
            "text/plain": [
              "[101,\n",
              " 2006,\n",
              " 1996,\n",
              " 2034,\n",
              " 2154,\n",
              " 1997,\n",
              " 2621,\n",
              " 1010,\n",
              " 19840,\n",
              " 2121,\n",
              " 2152,\n",
              " 2082,\n",
              " 3076,\n",
              " 14375,\n",
              " 7305,\n",
              " 3138,\n",
              " 2010,\n",
              " 2388,\n",
              " 1005,\n",
              " 1055,\n",
              " 2482,\n",
              " 2006,\n",
              " 1037,\n",
              " 6569,\n",
              " 15637,\n",
              " 2096,\n",
              " 2016,\n",
              " 2003,\n",
              " 2006,\n",
              " 1037,\n",
              " 2449,\n",
              " 4440,\n",
              " 1998,\n",
              " 9554,\n",
              " 19119,\n",
              " 2046,\n",
              " 1998,\n",
              " 12394,\n",
              " 1996,\n",
              " 2482,\n",
              " 1997,\n",
              " 2010,\n",
              " 3836,\n",
              " 1010,\n",
              " 2720,\n",
              " 1012,\n",
              " 10500,\n",
              " 1012,\n",
              " 14375,\n",
              " 2003,\n",
              " 1999,\n",
              " 5473,\n",
              " 1997,\n",
              " 2183,\n",
              " 2000,\n",
              " 7173,\n",
              " 1010,\n",
              " 2004,\n",
              " 2002,\n",
              " 2515,\n",
              " 2025,\n",
              " 2031,\n",
              " 1037,\n",
              " 4062,\n",
              " 1005,\n",
              " 1055,\n",
              " 6105,\n",
              " 2030,\n",
              " 5427,\n",
              " 1012,\n",
              " 2021,\n",
              " 2720,\n",
              " 1012,\n",
              " 10500,\n",
              " 10217,\n",
              " 2000,\n",
              " 2292,\n",
              " 14375,\n",
              " 3477,\n",
              " 2005,\n",
              " 1996,\n",
              " 12394,\n",
              " 2000,\n",
              " 2119,\n",
              " 3765,\n",
              " 1999,\n",
              " 3863,\n",
              " 2005,\n",
              " 2025,\n",
              " 4214,\n",
              " 1996,\n",
              " 2610,\n",
              " 2006,\n",
              " 14375,\n",
              " 1012,\n",
              " 2007,\n",
              " 1996,\n",
              " 12394,\n",
              " 4358,\n",
              " 102]"
            ]
          },
          "metadata": {
            "tags": []
          },
          "execution_count": 36
        }
      ]
    },
    {
      "cell_type": "code",
      "metadata": {
        "id": "oV_-VB0nsR6s"
      },
      "source": [
        "import numpy as np\n",
        "def padding(list_of_sent):\n",
        "  output=[]\n",
        "  max_len=100\n",
        "  for sent in list_of_sent.values:\n",
        "    padded_sent=sent+[0]*(max_len-len(sent))\n",
        "    output.append(padded_sent)\n",
        "  output=np.array(output)\n",
        "  return output"
      ],
      "execution_count": 37,
      "outputs": []
    },
    {
      "cell_type": "code",
      "metadata": {
        "id": "uIacDjlOuavQ"
      },
      "source": [
        "inputs=padding(inputs)"
      ],
      "execution_count": 38,
      "outputs": []
    },
    {
      "cell_type": "code",
      "metadata": {
        "id": "OC5NmcBgvYs9",
        "colab": {
          "base_uri": "https://localhost:8080/"
        },
        "outputId": "9aaa88eb-ad85-4f59-d739-68e409feaf7b"
      },
      "source": [
        "inputs[11]"
      ],
      "execution_count": 39,
      "outputs": [
        {
          "output_type": "execute_result",
          "data": {
            "text/plain": [
              "array([  101,  2848, 17935, 28139,  1010,  5650, 22688,  1010,  9658,\n",
              "       15333,  6826, 10762,  1010,  1998,  4656,  4895,  4590,  2024,\n",
              "        2176,  7587,  2359,  2718,  3549,  2551,  2005,  1037,  2167,\n",
              "        4759,  9452,  3029,  2040,  2031,  7376,  1037,  1002,  2184,\n",
              "        2454,  7421,  1011, 11965,  2075,  3274,  9090,  1012,  1996,\n",
              "       15862,  2404,  2009,  2503,  1037,  6556,  2491,  2482,  2000,\n",
              "       13583,  2009,  2627,  3036,  2012,  2624,  3799,  2248,  3199,\n",
              "        1012,  2174,  1010,  1037, 17434,  4666,  1011,  2039,  5158,\n",
              "        1010,  4786,  1037,  2450,  2315,  3680,  1012, 23484,  2000,\n",
              "       21089,  2202,  1996, 15862,  1005,  4524,  4820,  1996,  6556,\n",
              "        2491,  2482,  2096,  2016,  2003,  4192,  2188,  2000,  3190,\n",
              "         102])"
            ]
          },
          "metadata": {
            "tags": []
          },
          "execution_count": 39
        }
      ]
    },
    {
      "cell_type": "code",
      "metadata": {
        "id": "GASjDP4Luetq"
      },
      "source": [
        "mask=np.where(inputs!=0,1,0)"
      ],
      "execution_count": 40,
      "outputs": []
    },
    {
      "cell_type": "code",
      "metadata": {
        "id": "EbAZBnblu_bf"
      },
      "source": [
        "embedded_inputs=torch.tensor(inputs)\n",
        "attention_mask=torch.tensor(mask)"
      ],
      "execution_count": 41,
      "outputs": []
    },
    {
      "cell_type": "code",
      "metadata": {
        "id": "AOt4g9mwvSoV"
      },
      "source": [
        "with torch.no_grad():\n",
        "  final_states = model(embedded_inputs, attention_mask=attention_mask)"
      ],
      "execution_count": 42,
      "outputs": []
    },
    {
      "cell_type": "code",
      "metadata": {
        "id": "k8aYGTKHv_Ee"
      },
      "source": [
        "extracted_features=final_states[0][:,0,:].numpy()"
      ],
      "execution_count": 43,
      "outputs": []
    },
    {
      "cell_type": "code",
      "metadata": {
        "id": "z6zDpRcABjbe"
      },
      "source": [
        "from sklearn.metrics.pairwise import cosine_similarity"
      ],
      "execution_count": 44,
      "outputs": []
    },
    {
      "cell_type": "code",
      "metadata": {
        "id": "v8CWjbGeL7Qt"
      },
      "source": [
        "cos_sim=cosine_similarity(extracted_features,extracted_features)"
      ],
      "execution_count": 45,
      "outputs": []
    },
    {
      "cell_type": "code",
      "metadata": {
        "id": "jsuxgEpbMMoJ"
      },
      "source": [
        "indices=pd.Series(finaldata.index)"
      ],
      "execution_count": 46,
      "outputs": []
    },
    {
      "cell_type": "code",
      "metadata": {
        "id": "5deMDOOKMki2"
      },
      "source": [
        "def recommendations(title, cosine_sim = cos_sim):\n",
        "    recommended_movies = []\n",
        "    index = indices[indices == title].index[0]\n",
        "    similarity_scores = pd.Series(cosine_sim[index]).sort_values(ascending = False)\n",
        "    top_10_movies = list(similarity_scores.iloc[1:11].index)\n",
        "    for i in top_10_movies:\n",
        "        recommended_movies.append(list(finaldata.index)[i])\n",
        "    return recommended_movies"
      ],
      "execution_count": 47,
      "outputs": []
    },
    {
      "cell_type": "code",
      "metadata": {
        "id": "826a44hDNizB",
        "colab": {
          "base_uri": "https://localhost:8080/"
        },
        "outputId": "9171403e-a647-4aa0-ed34-280ecaa46af0"
      },
      "source": [
        "recommendations(\"Big Fat Liar\")"
      ],
      "execution_count": 48,
      "outputs": [
        {
          "output_type": "execute_result",
          "data": {
            "text/plain": [
              "['Warriors of Virtue',\n",
              " 'The Long Weekend',\n",
              " ' Napoleon Dynamite',\n",
              " 'Lloyd',\n",
              " 'Orange County',\n",
              " 'Loser',\n",
              " 'Road Trip',\n",
              " 'Accepted',\n",
              " 'Hoot',\n",
              " \"National Lampoon's Van Wilder\"]"
            ]
          },
          "metadata": {
            "tags": []
          },
          "execution_count": 48
        }
      ]
    },
    {
      "cell_type": "code",
      "metadata": {
        "id": "CrFSVPV-Nz3h",
        "colab": {
          "base_uri": "https://localhost:8080/"
        },
        "outputId": "07ddb126-65b2-4c66-ec55-f132f627eafa"
      },
      "source": [
        "recommendations(\"Harry Potter and the Chamber of Secrets\")"
      ],
      "execution_count": 49,
      "outputs": [
        {
          "output_type": "execute_result",
          "data": {
            "text/plain": [
              "['Harry Potter and the Prisoner of Azkaban',\n",
              " \"Harry Potter and the Sorcerer's Stone\",\n",
              " \"Pooh's Heffalump Movie\",\n",
              " 'The Magnet',\n",
              " 'Harry Potter and the Goblet of Fire',\n",
              " 'Shrek',\n",
              " 'Elf',\n",
              " 'Robots',\n",
              " 'The Chronicles of Narnia: The Lion, the Witch and the Wardrobe',\n",
              " \"Piglet's Big Movie\"]"
            ]
          },
          "metadata": {
            "tags": []
          },
          "execution_count": 49
        }
      ]
    },
    {
      "cell_type": "code",
      "metadata": {
        "id": "gRr5Aaq3PR7b",
        "colab": {
          "base_uri": "https://localhost:8080/"
        },
        "outputId": "46deed3b-9dbb-416a-9372-9cc8f355636c"
      },
      "source": [
        "recommendations(\"Ice Age\")"
      ],
      "execution_count": 50,
      "outputs": [
        {
          "output_type": "execute_result",
          "data": {
            "text/plain": [
              "['Dreamcatcher',\n",
              " 'Casper Meets Wendy',\n",
              " 'Chicken Little',\n",
              " \"Pooh's Heffalump Movie\",\n",
              " 'Shrek',\n",
              " \"Clifford's Really Big Movie\",\n",
              " 'Muppets from Space',\n",
              " 'Sexy Beast',\n",
              " 'The Village',\n",
              " 'Charlie and the Chocolate Factory']"
            ]
          },
          "metadata": {
            "tags": []
          },
          "execution_count": 50
        }
      ]
    },
    {
      "cell_type": "code",
      "metadata": {
        "id": "pBB7o1gTPlfp",
        "colab": {
          "base_uri": "https://localhost:8080/"
        },
        "outputId": "8dda7618-44b4-4acd-b3fb-91c13b853844"
      },
      "source": [
        "recommendations(\"Blackmail\")"
      ],
      "execution_count": 51,
      "outputs": [
        {
          "output_type": "execute_result",
          "data": {
            "text/plain": [
              "['The 39 Steps',\n",
              " 'The Interrupted Journey',\n",
              " 'Gosford Park',\n",
              " 'Brass Monkey',\n",
              " 'Murder Without Crime',\n",
              " 'London',\n",
              " 'One Wild Oat',\n",
              " 'Something Always Happens',\n",
              " 'Piccadilly',\n",
              " 'The Silent Passenger']"
            ]
          },
          "metadata": {
            "tags": []
          },
          "execution_count": 51
        }
      ]
    },
    {
      "cell_type": "code",
      "metadata": {
        "id": "3F16afvEdlom"
      },
      "source": [
        ""
      ],
      "execution_count": 51,
      "outputs": []
    }
  ]
}